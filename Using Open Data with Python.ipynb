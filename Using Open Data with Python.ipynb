{
 "cells": [
  {
   "cell_type": "markdown",
   "metadata": {},
   "source": [
    "# Using Open Data with Python"
   ]
  },
  {
   "cell_type": "markdown",
   "metadata": {},
   "source": [
    "(This content was adapted from [intro.syzygy.ca](http://intro.syzygy.ca/python-for-computing/) and content developed by Dr. Michael Lamoureux.)\n",
    "\n",
    "This chapter focuses on how to use Python within a Jupyter notebook. Doing simple calculations in Python is very straightforward. However, once you try to do somethig complex, there are a few tricks to learn. In particular, how to get plots to appear in the notebook, how to do animations, and a few other niceties.\n",
    "\n",
    "# A simple demo using financial data in Python\n",
    "This notebook is based on course notes from Lamoureux’s course Math 651 at the University of Calgary, Winter 2016.\n",
    "\n",
    "This was an exercise to try out some resourse in Python. Specifically, we want to scrape some data from the web concerning stock prices, and display in a Panda. Then do some basic data analysis on the information.\n",
    "\n",
    "We take advantage of the fact that there is a lot of financial data freely accessible on the web, and lots of people post information about how to use it."
   ]
  },
  {
   "cell_type": "markdown",
   "metadata": {},
   "source": [
    "## Plotting in a Python notebook\n",
    "\n",
    "Three things before you can plot.\n",
    "\n",
    "- tell Jupyter that you want plots to appear inline\n",
    "\n",
    "- load in numerical Python so you can deal with numerical arrays\n",
    "\n",
    "- load in PyPlot to do your plotting."
   ]
  },
  {
   "cell_type": "code",
   "execution_count": null,
   "metadata": {
    "collapsed": false
   },
   "outputs": [],
   "source": [
    "# Get some basic tools\n",
    "%pylab inline\n",
    "# Note: Pylab also takes advantage of numpy and pyplot\n",
    "from pandas import Series, DataFrame\n",
    "import pandas as pd\n",
    "import pandas_datareader.data as web\n",
    "import datetime\n",
    "\n"
   ]
  },
  {
   "cell_type": "markdown",
   "metadata": {},
   "source": [
    "## Accessing financial data\n",
    "\n",
    "For free, historical data on commodities like oil and stock prices, you can try this site: http://www.databank.rbs.com This site will download data directly into spreadsheets for you, or in this case, a Jupyter notebook."
   ]
  },
  {
   "cell_type": "code",
   "execution_count": null,
   "metadata": {
    "collapsed": false
   },
   "outputs": [],
   "source": [
    "#web.get_quote_google('GOOG')\n",
    "end = datetime.date.today()\n",
    "G= web.DataReader(\"GOOG\", 'google', '2001-01-01', end)\n",
    "M = web.DataReader(\"MSFT\", 'google', '2001-01-01', end)\n",
    "A = web.DataReader(\"AAPL\", 'google', '2001-01-01', end)\n"
   ]
  },
  {
   "cell_type": "markdown",
   "metadata": {},
   "source": [
    "The commands above downloaded three datasets into the Jupyter notebook - stock data from Google, Microsoft, and Apple. You can look at the data by simply typing G, M, or A and running the cell (not done here).\n",
    "\n",
    "Often a good way to get an overview of the data is to plot it visually and take a look. Here we're plotting all three in one plot. "
   ]
  },
  {
   "cell_type": "code",
   "execution_count": null,
   "metadata": {
    "collapsed": false,
    "scrolled": false
   },
   "outputs": [],
   "source": [
    "subplot(3,1,1)\n",
    "plot(M.iloc[:,3]) #iloc specifies the index location - all rows and column 3.\n",
    "title('Microsoft')\n",
    "pylab.tick_params(labelbottom='off') \n",
    "pylab.xlabel('')\n",
    "subplot(3,1,2)\n",
    "plot(G.iloc[:,3])\n",
    "title('Google')\n",
    "pylab.tick_params(labelbottom='off') \n",
    "pylab.xlabel('')\n",
    "subplot(3,1,3)\n",
    "plot(A.iloc[:,3])\n",
    "title('Apple')\n",
    "pylab.tight_layout()"
   ]
  },
  {
   "cell_type": "markdown",
   "metadata": {},
   "source": [
    "Let's calculate and plot the changes in the stock prices, normalized as a percentage. "
   ]
  },
  {
   "cell_type": "code",
   "execution_count": null,
   "metadata": {
    "collapsed": false,
    "scrolled": false
   },
   "outputs": [],
   "source": [
    "#Calculate the data\n",
    "A_rets = A.iloc[:,3].pct_change()\n",
    "M_rets = M.iloc[:,3].pct_change()\n",
    "G_rets = G.iloc[:,3].pct_change()\n",
    "\n",
    "#Plot the % change\n",
    "subplot(3,1,1)\n",
    "plot(M_rets)\n",
    "pylab.xlim(['2001-01-01', end])\n",
    "subplot(3,1,2)\n",
    "plot(G_rets)\n",
    "pylab.xlim(['2001-01-01', end])\n",
    "subplot(3,1,3)\n",
    "plot(A_rets)\n",
    "pylab.xlim(['2001-01-01', end])\n",
    "pylab.tight_layout()"
   ]
  },
  {
   "cell_type": "markdown",
   "metadata": {},
   "source": [
    "Next, let's calculate and visualize the correlation between a couple of the datasets. "
   ]
  },
  {
   "cell_type": "code",
   "execution_count": null,
   "metadata": {
    "collapsed": false,
    "scrolled": false
   },
   "outputs": [],
   "source": [
    "# First, Apple and Microsoft: \n",
    "pd.rolling_corr(A_rets, M_rets, 250).plot()\n",
    "title('Correlation between Apple and Microsoft stock prices')"
   ]
  },
  {
   "cell_type": "code",
   "execution_count": null,
   "metadata": {
    "collapsed": false,
    "scrolled": false
   },
   "outputs": [],
   "source": [
    "pd.rolling_corr(M_rets, G_rets, 250).plot()\n",
    "title('Correlation between Google and Microsoft stock prices')"
   ]
  },
  {
   "cell_type": "markdown",
   "metadata": {},
   "source": [
    "## Getting fancy.\n",
    "\n",
    "Now, we can use some more sophisticated statistical tools, like least squares regression. \n",
    "\n",
    "However, I had to do some work to get Python to recognize these items. But I didn’t work too hard, I just followed the error messages. Having to install additional packages can be quite common in your Jupyter notebook. \n",
    "\n",
    "If a package you need is not installed globally on the JupyterHub and available for all users, you can do the following in a terminal to install it on individual Jupyter container instances:\n",
    "\n",
    "    pip install --user -U <package-name>\n",
    "    \n",
    "(The terminal is available in your home screen under New --> Terminal)\n",
    "\n",
    "Or, using the magic command syntax, you could do this within the notebook:\n",
    "\n",
    "    %%bash\n",
    "\n",
    "    pip install --user -U <package-name>\n",
    "\n",
    "The key is the --user flag, which forces it to install under a ‘.local’ directory in your account. Without this flag, you would encounter permission errors when trying to install. "
   ]
  },
  {
   "cell_type": "code",
   "execution_count": null,
   "metadata": {
    "collapsed": false
   },
   "outputs": [],
   "source": [
    "# We may also try a least square regression, also built in as a pandas function\n",
    "model = pd.ols(y=M_rets, x={'G': G_rets},window=256)"
   ]
  },
  {
   "cell_type": "code",
   "execution_count": null,
   "metadata": {
    "collapsed": false
   },
   "outputs": [],
   "source": [
    "model.beta"
   ]
  },
  {
   "cell_type": "code",
   "execution_count": null,
   "metadata": {
    "collapsed": false
   },
   "outputs": [],
   "source": [
    "# Plotting the least scares fit\n",
    "model.beta['G'].plot()\n",
    "title('Least squares fit between Google and Microsoft stock prices')"
   ]
  },
  {
   "cell_type": "markdown",
   "metadata": {},
   "source": [
    "The correlation plot and least squares plots look quite similar. Let's have a closer look. You can easily plot them side by side by using the subplot function and the same plotting lines you used above."
   ]
  },
  {
   "cell_type": "code",
   "execution_count": null,
   "metadata": {
    "collapsed": false
   },
   "outputs": [],
   "source": [
    "\n",
    "subplot(2,1,1)\n",
    "pd.rolling_corr(M_rets, G_rets, 250).plot()\n",
    "title('Rolling correlations')\n",
    "pylab.tick_params(labelbottom='off') \n",
    "pylab.xlabel('')\n",
    "pylab.xlim(['2001-01-01', end])\n",
    "subplot(2,1,2)\n",
    "model.beta['G'].plot()\n",
    "pylab.xlim(['2001-01-01', end])\n",
    "title('Least squaresn model')\n",
    "pylab.tight_layout()"
   ]
  },
  {
   "cell_type": "markdown",
   "metadata": {},
   "source": [
    "## Wrap-up\n",
    "\n",
    "This was just a quick introduction to using one type of open data in Jupyter using python. There are an infinite number of additional analyses you could perform on this data or using other data. For example, are there any other stocks you would be interested in analyzing and comparing to the ones we looked at here? Or what entirely different datasets would you be interested in altogether? \n",
    "\n",
    "Check out some of the following data sources: \n",
    "\n",
    "- [Government of Canada Open Data Portal](http://open.canada.ca/en/working-datab)\n",
    "- [Government of Alberta Open Data Portal](https://open.alberta.ca/interact/for-developers)\n",
    "- [World Bank Data](https://blogs.worldbank.org/opendata/accessing-world-bank-data-apis-python-r-ruby-stata)"
   ]
  }
 ],
 "metadata": {
  "anaconda-cloud": {},
  "kernelspec": {
   "display_name": "Python [default]",
   "language": "python",
   "name": "python3"
  },
  "language_info": {
   "codemirror_mode": {
    "name": "ipython",
    "version": 3
   },
   "file_extension": ".py",
   "mimetype": "text/x-python",
   "name": "python",
   "nbconvert_exporter": "python",
   "pygments_lexer": "ipython3",
   "version": "3.5.2"
  }
 },
 "nbformat": 4,
 "nbformat_minor": 1
}
