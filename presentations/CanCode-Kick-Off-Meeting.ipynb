{
 "cells": [
  {
   "cell_type": "markdown",
   "metadata": {
    "slideshow": {
     "slide_type": "slide"
    }
   },
   "source": [
    "![CanCode](cancode/TW_CanCode-EN.JPG)\n"
   ]
  },
  {
   "cell_type": "markdown",
   "metadata": {
    "slideshow": {
     "slide_type": "slide"
    }
   },
   "source": [
    "<img src=\"cancode/cybera-png-main.png\" alt=\"Cybera logo\" width=500 align = \"middle\">\n",
    "<br>\n",
    "<img src=\"cancode/PIMS_logo.png\" alt=\"PIMS logo\" width=500 align = \"middle\">"
   ]
  },
  {
   "cell_type": "markdown",
   "metadata": {
    "slideshow": {
     "slide_type": "slide"
    }
   },
   "source": [
    "# The Project\n",
    "\n",
    "Cybera and PIMS will deliver tools, frameworks, and training to help K-12 teachers bring computational thinking into math, science, and humanities courses. \n",
    "<br>\n",
    "<br>\n",
    "We will bring together secondary school teachers in Alberta and British Columbia and support them with experts from post-secondary institutions and data scientists. \n"
   ]
  },
  {
   "cell_type": "markdown",
   "metadata": {
    "slideshow": {
     "slide_type": "slide"
    }
   },
   "source": [
    "# The Vision\n",
    "\n",
    "* Leverage Open Education frameworks and tools\n",
    "* Help break down barriers\n",
    "    * PSI and K-12\n",
    "    * Social sciences, Humanities and Natural Sciences\n",
    "    * Teachers and students     \n",
    "* Collaborate and share not just code but computational thinking \n"
   ]
  },
  {
   "cell_type": "markdown",
   "metadata": {
    "slideshow": {
     "slide_type": "slide"
    }
   },
   "source": [
    "## How are we going to do this?\n",
    "\n",
    "<img src=\"https://wwejubwfy.s3.amazonaws.com/Artboard-2016-11-13-18-46-27.jpg\" alt=\"Jupyter\" width=300 align = \"centre\">\n",
    "\n",
    "The Jupyter Notebook is an open-source web application that allows you to create and share documents that contain live code, equations, visualizations and narrative text."
   ]
  },
  {
   "cell_type": "markdown",
   "metadata": {
    "slideshow": {
     "slide_type": "subslide"
    }
   },
   "source": [
    "### Some examples\n",
    "The Foundations of Data Science class at UC Berkeley [link](https://twitter.com/math_rachel/status/900709020318740482).\n",
    "<br>\n",
    "An open data example [link](https://cybera.syzygy.ca/jupyter/user/byron.chu/notebooks/jupyter-demo-notebooks/teaching/open-data-sample-assignment.ipynb).\n",
    "<br>\n",
    "Interactive widgets example [link](http://jupyter.org/widgets)."
   ]
  },
  {
   "cell_type": "markdown",
   "metadata": {
    "slideshow": {
     "slide_type": "subslide"
    }
   },
   "source": [
    "## The Current Landscape\n",
    "\n",
    "* Scratch (MIT) \n",
    "    * [platform-dependent](https://scratch.mit.edu/projects/editor/?tip_bar=getStarted)\n",
    "    * popularity declining? \n",
    "        * Since 2007, over 11 million young people and 14 millions games, animations, stories created \n",
    "        * concerns: students interested in the social media aspects \n",
    "    * 2016 - teaming with Google to develop the next generation of Scratch = Scratch Blocks (Blockly technology)"
   ]
  },
  {
   "cell_type": "markdown",
   "metadata": {
    "slideshow": {
     "slide_type": "slide"
    }
   },
   "source": [
    "## Our Roadmap\n",
    "\n",
    "1. Providing the Tools\n",
    "2. Building Open Educational Resources\n",
    "3. Building (Digital) Teaching Skills\n",
    "4. Program Assessment Study\n",
    "5. Sustainability Beyond CanCode"
   ]
  },
  {
   "cell_type": "markdown",
   "metadata": {
    "slideshow": {
     "slide_type": "slide"
    }
   },
   "source": [
    "## Our Project Targets\n",
    "\n",
    "<img src=\"cancode/targets.png\" alt=\"Targets\" width=75% align = \"left\">"
   ]
  },
  {
   "cell_type": "code",
   "execution_count": null,
   "metadata": {
    "collapsed": true,
    "slideshow": {
     "slide_type": "skip"
    }
   },
   "outputs": [],
   "source": [
    "\"\"\"\n",
    "Source:\n",
    "GANTT Chart with Matplotlib\n",
    "Sukhbinder\n",
    "https://sukhbinder.wordpress.com/2016/05/10/quick-gantt-chart-with-matplotlib/\n",
    "Inspired from\n",
    "<div class=\"embed-theclowersgroup\"><blockquote class=\"wp-embedded-content\"><a href=\"http://www.clowersresearch.com/main/gantt-charts-in-matplotlib/\">Gantt Charts in Matplotlib</a></blockquote><script type=\"text/javascript\"><!--//--><![CDATA[//><!--        !function(a,b){\"use strict\";function c(){if(!e){e=!0;var a,c,d,f,g=-1!==navigator.appVersion.indexOf(\"MSIE 10\"),h=!!navigator.userAgent.match(/Trident.*rv:11./),i=b.querySelectorAll(\"iframe.wp-embedded-content\");for(c=0;c<i.length;c++)if(d=i[c],!d.getAttribute(\"data-secret\")){if(f=Math.random().toString(36).substr(2,10),d.src+=\"#?secret=\"+f,d.setAttribute(\"data-secret\",f),g||h)a=d.cloneNode(!0),a.removeAttribute(\"security\"),d.parentNode.replaceChild(a,d)}else;}}var d=!1,e=!1;if(b.querySelector)if(a.addEventListener)d=!0;if(a.wp=a.wp||{},!a.wp.receiveEmbedMessage)if(a.wp.receiveEmbedMessage=function(c){var d=c.data;if(d.secret||d.message||d.value)if(!/[^a-zA-Z0-9]/.test(d.secret)){var e,f,g,h,i,j=b.querySelectorAll('iframe[data-secret=\"'+d.secret+'\"]'),k=b.querySelectorAll('blockquote[data-secret=\"'+d.secret+'\"]');for(e=0;e<k.length;e++)k[e].style.display=\"none\";for(e=0;e<j.length;e++)if(f=j[e],c.source===f.contentWindow){if(f.removeAttribute(\"style\"),\"height\"===d.message){if(g=parseInt(d.value,10),g>1e3)g=1e3;else if(200>~~g)g=200;f.height=g}if(\"link\"===d.message)if(h=b.createElement(\"a\"),i=b.createElement(\"a\"),h.href=f.getAttribute(\"src\"),i.href=d.value,i.host===h.host)if(b.activeElement===f)a.top.location.href=d.value}else;}},d)a.addEventListener(\"message\",a.wp.receiveEmbedMessage,!1),b.addEventListener(\"DOMContentLoaded\",c,!1),a.addEventListener(\"load\",c,!1)}(window,document);//--><!]]></script><iframe sandbox=\"allow-scripts\" security=\"restricted\" src=\"http://www.clowersresearch.com/main/gantt-charts-in-matplotlib/embed/\" width=\"600\" height=\"338\" title=\"“Gantt Charts in Matplotlib” — The Clowers Group\" frameborder=\"0\" marginwidth=\"0\" marginheight=\"0\" scrolling=\"no\" class=\"wp-embedded-content\"></iframe></div>\n",
    "\"\"\"\n",
    "import datetime as dt\n",
    "import matplotlib.pyplot as plt\n",
    "import matplotlib.font_manager as font_manager\n",
    "import matplotlib.dates\n",
    "from matplotlib.dates import WEEKLY,MONTHLY, DateFormatter, rrulewrapper, RRuleLocator \n",
    "import numpy as np\n",
    "  "
   ]
  },
  {
   "cell_type": "code",
   "execution_count": null,
   "metadata": {
    "collapsed": true,
    "slideshow": {
     "slide_type": "skip"
    }
   },
   "outputs": [],
   "source": [
    "def _create_date(datetxt):\n",
    "    \"\"\"Creates the date\"\"\"\n",
    "    day,month,year=datetxt.split('-')\n",
    "    date = dt.datetime(int(year), int(month), int(day))\n",
    "    mdate = matplotlib.dates.date2num(date) \n",
    "    return mdate\n",
    " \n",
    "def CreateGanttChart(fname,title):\n",
    "    \"\"\"\n",
    "        Create gantt charts with matplotlib\n",
    "        Give file name.\n",
    "    \"\"\" \n",
    "    ylabels = []\n",
    "    customDates = []\n",
    "    try:\n",
    "        textlist=open(fname).readlines()\n",
    "    except:\n",
    "        return\n",
    "#\n",
    "    for tx in textlist:\n",
    "        if not tx.startswith('#'):\n",
    "            ylabel,startdate,enddate=tx.split(',')\n",
    "            ylabels.append(ylabel.replace('\\n',''))\n",
    "            customDates.append([_create_date(startdate.replace('\\n','')),_create_date(enddate.replace('\\n',''))])\n",
    "             \n",
    "    ilen=len(ylabels)\n",
    "    pos = np.arange(0.5,ilen*0.5+0.5,0.5)\n",
    "    task_dates = {}\n",
    "    for i,task in enumerate(ylabels):\n",
    "        task_dates[task] = customDates[i]\n",
    "    fig = plt.figure(figsize=(20,8))\n",
    "    ax = fig.add_subplot(111)\n",
    "    for i in range(len(ylabels)):\n",
    "         start_date,end_date = task_dates[ylabels[i]]\n",
    "         ax.barh((i*0.5)+0.5, end_date - start_date, left=start_date, height=0.3, align='center', edgecolor='lightgreen', color='orange', alpha = 0.8)\n",
    "    locsy, labelsy = plt.yticks(pos,ylabels)\n",
    "    plt.setp(labelsy, fontsize = 14)\n",
    "    ax.set_ylim(ymin = -0.1, ymax = ilen*0.5+0.5)\n",
    "    ax.grid(color = 'g', linestyle = ':')\n",
    "    ax.xaxis_date()\n",
    "    rule = rrulewrapper(MONTHLY, interval=1)\n",
    "    loc = RRuleLocator(rule)\n",
    "    #formatter = DateFormatter(\"%d-%b\")\n",
    "    formatter = DateFormatter(\"%b\")\n",
    "  \n",
    "    ax.xaxis.set_major_locator(loc)\n",
    "    ax.xaxis.set_major_formatter(formatter)\n",
    "    labelsx = ax.get_xticklabels()\n",
    "    plt.setp(labelsx, rotation=30, fontsize=10)\n",
    "\n",
    "    font = font_manager.FontProperties(size='small')\n",
    "    #ax.legend(loc=1,prop=font)\n",
    " \n",
    "    ax.invert_yaxis()\n",
    "    fig.autofmt_xdate()\n",
    "    plt.title(title, fontsize=20)\n",
    "    plt.savefig('gantt.svg')\n",
    "    plt.show()\n",
    " "
   ]
  },
  {
   "cell_type": "code",
   "execution_count": null,
   "metadata": {
    "collapsed": true,
    "slideshow": {
     "slide_type": "skip"
    }
   },
   "outputs": [],
   "source": [
    "fname=r\"cancode/gantt-M1.csv\"\n",
    "title=\"Milestone 1: Create Launchpad for Course Authoring\""
   ]
  },
  {
   "cell_type": "code",
   "execution_count": null,
   "metadata": {
    "slideshow": {
     "slide_type": "slide"
    }
   },
   "outputs": [],
   "source": [
    "CreateGanttChart(fname,title)"
   ]
  },
  {
   "cell_type": "markdown",
   "metadata": {
    "slideshow": {
     "slide_type": "subslide"
    }
   },
   "source": [
    "### Responsibility Matrix\n",
    "![m1](cancode/m1-matrix.png)"
   ]
  },
  {
   "cell_type": "code",
   "execution_count": null,
   "metadata": {
    "collapsed": true,
    "slideshow": {
     "slide_type": "skip"
    }
   },
   "outputs": [],
   "source": [
    "fname=r\"cancode/gantt-M2.csv\"\n",
    "title=\"Milestone 2: Offer In-Person and Online Teacher Workshops/Training\""
   ]
  },
  {
   "cell_type": "code",
   "execution_count": null,
   "metadata": {
    "slideshow": {
     "slide_type": "slide"
    }
   },
   "outputs": [],
   "source": [
    "CreateGanttChart(fname,title)"
   ]
  },
  {
   "cell_type": "markdown",
   "metadata": {
    "slideshow": {
     "slide_type": "subslide"
    }
   },
   "source": [
    "### Responsibility Matrix\n",
    "![m2](cancode/m2-matrix.png)"
   ]
  },
  {
   "cell_type": "code",
   "execution_count": null,
   "metadata": {
    "collapsed": true,
    "slideshow": {
     "slide_type": "skip"
    }
   },
   "outputs": [],
   "source": [
    "fname=r\"cancode/gantt-M3.csv\"\n",
    "title=\"Milestone 3: Deliver Courses using Jupyter Live Textbooks and Content\""
   ]
  },
  {
   "cell_type": "code",
   "execution_count": null,
   "metadata": {
    "slideshow": {
     "slide_type": "slide"
    }
   },
   "outputs": [],
   "source": [
    "CreateGanttChart(fname,title)"
   ]
  },
  {
   "cell_type": "markdown",
   "metadata": {
    "slideshow": {
     "slide_type": "subslide"
    }
   },
   "source": [
    "### Responsibility Matrix\n",
    "![m3](cancode/m3-matrix.png)"
   ]
  },
  {
   "cell_type": "code",
   "execution_count": null,
   "metadata": {
    "collapsed": true,
    "slideshow": {
     "slide_type": "skip"
    }
   },
   "outputs": [],
   "source": [
    "fname=r\"cancode/gantt-M4.csv\"\n",
    "title=\"Milestone 4: Perform Program Assessment Study (University of Alberta)\""
   ]
  },
  {
   "cell_type": "code",
   "execution_count": null,
   "metadata": {
    "slideshow": {
     "slide_type": "slide"
    }
   },
   "outputs": [],
   "source": [
    "CreateGanttChart(fname,title)"
   ]
  },
  {
   "cell_type": "markdown",
   "metadata": {
    "slideshow": {
     "slide_type": "subslide"
    }
   },
   "source": [
    "### Responsibility Matrix\n",
    "![m4](cancode/m4-matrix.png)"
   ]
  },
  {
   "cell_type": "markdown",
   "metadata": {
    "slideshow": {
     "slide_type": "slide"
    }
   },
   "source": [
    "# Teams and Teamwork\n",
    "\n",
    "<img src=\"cancode/org-chart.png\" alt=\"Organization\" width=60% align = \"middle\">"
   ]
  },
  {
   "cell_type": "markdown",
   "metadata": {
    "slideshow": {
     "slide_type": "slide"
    }
   },
   "source": [
    "### Meetings and Collaboration Tools\n",
    "* [Slack](https://cancode-collaboration.slack.com)\n",
    "* [GitHub](https://github.com/ganymede-io)\n",
    "* Monthly Steering Committee Meetings\n",
    "* Working Groups\n",
    "    * Bi-weekly sprints using Agile sprint methodology   \n",
    "<img src=\"https://cdn-images-1.medium.com/max/2000/1*oHRJUR1OMrlsbjrddff0MA.png\" alt=\"Agile\" width=70% align = \"left\">   "
   ]
  },
  {
   "cell_type": "markdown",
   "metadata": {
    "slideshow": {
     "slide_type": "slide"
    }
   },
   "source": [
    "### Internal Facing Tools for Collaboration\n",
    "\n",
    "* [JIRA](https://jira.cybera.ca/secure/RapidBoard.jspa?rapidView=34&projectKey=CAN&view=planning.nodetail&quickFilter=133)\n",
    "* [Wiki](https://wiki.cybera.ca/display/CAN/CanCode)"
   ]
  },
  {
   "cell_type": "markdown",
   "metadata": {
    "slideshow": {
     "slide_type": "slide"
    }
   },
   "source": [
    "## Project Naming ... the Finalists"
   ]
  },
  {
   "cell_type": "code",
   "execution_count": null,
   "metadata": {
    "slideshow": {
     "slide_type": "skip"
    }
   },
   "outputs": [],
   "source": [
    "import random\n",
    "x=[\"Orbit Canada\",\"Callisto\",\"Tycho\",\"Trixie\",\"Digicademy\",\"Activate Canada\"]\n",
    "random.shuffle(x)"
   ]
  },
  {
   "cell_type": "code",
   "execution_count": null,
   "metadata": {
    "slideshow": {
     "slide_type": "subslide"
    }
   },
   "outputs": [],
   "source": [
    "x"
   ]
  },
  {
   "cell_type": "markdown",
   "metadata": {
    "slideshow": {
     "slide_type": "slide"
    }
   },
   "source": [
    "## Review of Deliverables and Priorities\n",
    "\n",
    "* Priorities post Kick-Off meeting:\n",
    "    * Course and Workshop Content Working Group\n",
    "        * development of showcase modules such as sample course content and assignments\n",
    "    * Cyberinfrastructure Working Group     \n",
    "        * frameworks to support interactive textbooks\n",
    "        * infrastructure and JupyterHub(s) to support teachers and students\n"
   ]
  },
  {
   "cell_type": "markdown",
   "metadata": {
    "slideshow": {
     "slide_type": "subslide"
    }
   },
   "source": [
    "* Priorities post Kick-Off meeting:\n",
    "    * Communications\n",
    "        * website and communication materials\n",
    "        * working with stakeholders to identify Candidate teachers and courses\n",
    "    * Program Assessment Study\n",
    "        * Study design"
   ]
  },
  {
   "cell_type": "markdown",
   "metadata": {
    "slideshow": {
     "slide_type": "slide"
    }
   },
   "source": [
    "## Risks and Mitigations\n",
    "\n",
    "* Feedback on strengths, weaknesses, threats and opportunities to our project approach?\n",
    "    * Areas of Concern:\n",
    "        * Effectively identifying and reaching K-12 teachers\n",
    "        * Privacy and security\n",
    "    \n",
    "\n",
    "\n",
    "    "
   ]
  },
  {
   "cell_type": "markdown",
   "metadata": {
    "slideshow": {
     "slide_type": "slide"
    }
   },
   "source": [
    "## Administration\n",
    "### Reporting Requirements\n",
    "\n",
    "* Quarterly Progress Reports\n",
    "    * Progress on deliverables, update on target outreach, etc.\n",
    "* Annual Reports and Financial Statements\n",
    "* Ad Hoc and Special Reports (15 days to comply)\n",
    "* Final Implementation Report "
   ]
  },
  {
   "cell_type": "markdown",
   "metadata": {
    "slideshow": {
     "slide_type": "slide"
    }
   },
   "source": [
    "### Financial Claims\n",
    "\n",
    "* Quarterly claims\n",
    "* Invoicing process"
   ]
  },
  {
   "cell_type": "markdown",
   "metadata": {
    "slideshow": {
     "slide_type": "subslide"
    }
   },
   "source": [
    "<img src=\"cancode/claim-process.png\" alt=\"Organization\" width=40% align = \"middle\">"
   ]
  },
  {
   "cell_type": "markdown",
   "metadata": {
    "slideshow": {
     "slide_type": "slide"
    }
   },
   "source": [
    "### Eligible Costs\n",
    "\n",
    "* Some noteworthy items:\n",
    "    * Domestic travel in accordance with [Treasury Board Travel Directives](http://www.njc-cnm.gc.ca/directive/d10/en):\n",
    "        * Travel expenses at economy rates\n",
    "        * Mileage allowance with personal automobiles\n",
    "        * Actual costs at the destination will be allowed for food (or meal rates) and accommodation\n",
    "    * Direct Administration Costs: maximum of 10% of total Eligible Project Costs not related to the direct delivery of eligible CanCode activities\n",
    "    * Direct Technological Equipment and Material Costs: maximum of 20% of total Eligible Project Costs for use in the performance of the Project\n",
    "    \n"
   ]
  }
 ],
 "metadata": {
  "celltoolbar": "Slideshow",
  "kernelspec": {
   "display_name": "Python 3",
   "language": "python",
   "name": "python3"
  },
  "language_info": {
   "codemirror_mode": {
    "name": "ipython",
    "version": 3
   },
   "file_extension": ".py",
   "mimetype": "text/x-python",
   "name": "python",
   "nbconvert_exporter": "python",
   "pygments_lexer": "ipython3",
   "version": "3.6.2"
  }
 },
 "nbformat": 4,
 "nbformat_minor": 2
}
