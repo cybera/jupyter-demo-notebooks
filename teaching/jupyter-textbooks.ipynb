{
 "cells": [
  {
   "cell_type": "markdown",
   "metadata": {
    "deletable": true,
    "editable": true
   },
   "source": [
    "# Using Jupyter notebooks to create interactive textbooks\n",
    "\n",
    "## Static vs. active\n",
    "\n",
    "Jupyter notebooks present the opportunity to reshape how textbooks are delivered in the classroom. Rather than being presented with static pages or PDFs, constructing a textbook using Jupyter notebooks allow the reader to step into each example and tweak and experiment directly with the concepts being taught. \n",
    "\n",
    "For example, this Bayesian methods book is available on [Amazon](https://www.amazon.com/Bayesian-Methods-Hackers-Probabilistic-Addison-Wesley-ebook/dp/B016060UHA/ref=mt_kindle?_encoding=UTF8&me=) for purchase as a conventional textbook, available on Kindle and Paperback in static versions. However, it is also available as a collection of Jupyter notebooks in its entirety. \n",
    "\n",
    "A simple `git clone` command allows users to import the entire textbook into JupyterHub. This creates a local copy of the exact same textbook, with the exception that it is yours. It can be read just like a normal textbook, but once you want to experiment with its code examples, simple click into the cell and begin modifying its content. \n",
    "\n",
    "Import the textbook by running the cell below:"
   ]
  },
  {
   "cell_type": "code",
   "execution_count": null,
   "metadata": {
    "collapsed": false,
    "deletable": true,
    "editable": true
   },
   "outputs": [],
   "source": [
    "%%bash\n",
    "git clone https://github.com/CamDavidsonPilon/Probabilistic-Programming-and-Bayesian-Methods-for-Hackers.git"
   ]
  },
  {
   "cell_type": "markdown",
   "metadata": {
    "deletable": true,
    "editable": true
   },
   "source": [
    "All the notebooks are available in the [home directory](Probabilistic-Programming-and-Bayesian-Methods-for-Hackers/). \n",
    "\n",
    "Try out the Intro chapter [here](Probabilistic-Programming-and-Bayesian-Methods-for-Hackers/Chapter1_Introduction/Ch1_Introduction_PyMC2.ipynb)"
   ]
  },
  {
   "cell_type": "markdown",
   "metadata": {
    "deletable": true,
    "editable": true
   },
   "source": [
    "## Data Science at Berkeley \n",
    "\n",
    "UC Berkeley takes this concept to the next level. They teach a first year Data Science course with a fully Jupyter-based textbook that students can click into right from the web. Check it out at [inferentialthinking.com](https://www.inferentialthinking.com/chapters/01/3/plotting-the-classics.html), but note that unless you have a Berkeley ID, you won't be able to access the interactive version of it. "
   ]
  }
 ],
 "metadata": {
  "kernelspec": {
   "display_name": "Python 3",
   "language": "python",
   "name": "python3"
  },
  "language_info": {
   "codemirror_mode": {
    "name": "ipython",
    "version": 3
   },
   "file_extension": ".py",
   "mimetype": "text/x-python",
   "name": "python",
   "nbconvert_exporter": "python",
   "pygments_lexer": "ipython3",
   "version": "3.5.2"
  }
 },
 "nbformat": 4,
 "nbformat_minor": 2
}
