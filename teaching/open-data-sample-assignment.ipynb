{
 "cells": [
  {
   "cell_type": "markdown",
   "metadata": {
    "deletable": true,
    "editable": true
   },
   "source": [
    "# Using open data with Jupyter notebooks\n",
    "\n",
    "This notebook highlights how to use and work with open data using Jupyter notebooks in comparison to a more traditional approach of using standard, desktop tools to perform an open data assignment. \n",
    "\n",
    "The goal of the exercise is to use current National Hockey League (NHL) results to determine whether a team is on pace for making the playoffs. "
   ]
  },
  {
   "cell_type": "markdown",
   "metadata": {
    "deletable": true,
    "editable": true
   },
   "source": [
    "## Traditional approach\n",
    "\n",
    "### Tool 1\n",
    "Traditionally, students would have had to go to a particular website to access the data:\n",
    "    http://www.hockey-reference.com/teams/CGY/2017_games.html"
   ]
  },
  {
   "cell_type": "markdown",
   "metadata": {
    "deletable": true,
    "editable": true
   },
   "source": [
    "<img src=\"opendata_imgs/cgy_standings.png\" width=\"500px\" />"
   ]
  },
  {
   "cell_type": "markdown",
   "metadata": {
    "deletable": true,
    "editable": true
   },
   "source": [
    "### Tool 2\n",
    "From there, they would have to manually copy and paste the data into a tool such as Microsoft Excel. "
   ]
  },
  {
   "cell_type": "markdown",
   "metadata": {
    "deletable": true,
    "editable": true
   },
   "source": [
    "<img src=\"opendata_imgs/cgy_excel.png\" width=\"100%\"/>"
   ]
  },
  {
   "cell_type": "markdown",
   "metadata": {
    "deletable": true,
    "editable": true
   },
   "source": [
    "...and create some graph..."
   ]
  },
  {
   "cell_type": "markdown",
   "metadata": {
    "deletable": true,
    "editable": true
   },
   "source": [
    "![title](opendata_imgs/cgy_excel_graph.png)"
   ]
  },
  {
   "cell_type": "markdown",
   "metadata": {
    "deletable": true,
    "editable": true
   },
   "source": [
    "### Tool 3\n",
    "...that is then copied and pasted into Microsoft Word in order to write up a final report. "
   ]
  },
  {
   "cell_type": "markdown",
   "metadata": {
    "deletable": true,
    "editable": true
   },
   "source": [
    "![title](opendata_imgs/cgy_word.png)"
   ]
  },
  {
   "cell_type": "markdown",
   "metadata": {
    "deletable": true,
    "editable": true
   },
   "source": [
    "In total, that means the students would need to use the following tools:\n",
    "- a web browser\n",
    "- Microsoft Excel or something like it\n",
    "- Microsoft Word or something similar\n",
    "\n",
    "The final product is usually a static snapshot in time. "
   ]
  },
  {
   "cell_type": "markdown",
   "metadata": {
    "deletable": true,
    "editable": true
   },
   "source": [
    "## Jupyter notebooks approach\n",
    "\n",
    "Using Jupyter notebooks, the entire analysis can be done in one tool, requiring only a web browser. The end product is an interactive notebook that combines active code along with the explanatory narrative for how the analysis was conducted - literate programming - which can be interpreted by anyone. \n",
    "\n",
    "Start by installing some libraries that are needed to accomplish the tasks. These only need to be installed once and this will take a couple of minutes."
   ]
  },
  {
   "cell_type": "code",
   "execution_count": null,
   "metadata": {
    "collapsed": false,
    "deletable": true,
    "editable": true
   },
   "outputs": [],
   "source": [
    "install.packages(c(\"RCurl\", \"XML\", \"plyr\", \"ggplot2\"))"
   ]
  },
  {
   "cell_type": "markdown",
   "metadata": {
    "deletable": true,
    "editable": true
   },
   "source": [
    "Load the libraries: "
   ]
  },
  {
   "cell_type": "code",
   "execution_count": null,
   "metadata": {
    "collapsed": false,
    "deletable": true,
    "editable": true
   },
   "outputs": [],
   "source": [
    "library(RCurl)\n",
    "library(XML)\n",
    "library(plyr)\n",
    "library(ggplot2)"
   ]
  },
  {
   "cell_type": "markdown",
   "metadata": {
    "deletable": true,
    "editable": true
   },
   "source": [
    "Now, let's look at the data and load it directly into the Jupyter notebook from the site we previously manually visited: "
   ]
  },
  {
   "cell_type": "code",
   "execution_count": null,
   "metadata": {
    "collapsed": false,
    "deletable": true,
    "editable": true
   },
   "outputs": [],
   "source": [
    "readHTMLTable(\"http://www.hockey-reference.com/teams/CGY/2017_games.html\", header=T)"
   ]
  },
  {
   "cell_type": "markdown",
   "metadata": {
    "deletable": true,
    "editable": true
   },
   "source": [
    "Clean the data and calculate the number of points the team has accumulated."
   ]
  },
  {
   "cell_type": "code",
   "execution_count": null,
   "metadata": {
    "collapsed": false,
    "deletable": true,
    "editable": true
   },
   "outputs": [],
   "source": [
    "cgy_results <- readHTMLTable(\"http://www.hockey-reference.com/teams/CGY/2017_games.html\", header=T)\n",
    "results.clean <- cgy_results$games\n",
    "\n",
    "results.clean <- results.clean[results.clean$Opponent!='Opponent',]\n",
    "results.clean <- results.clean[,c(1,2,5,6,7,10,11,12)]\n",
    "\n",
    "results.clean$W <- as.integer(as.character(results.clean$W))\n",
    "results.clean$L <- as.integer(as.character(results.clean$L))\n",
    "results.clean$OL <- as.integer(as.character(results.clean$OL))\n",
    "results.clean$GP <- as.integer(as.character(results.clean$GP))\n",
    "\n",
    "results.clean$Points <- (results.clean$W) * 2 + results.clean$OL * 1"
   ]
  },
  {
   "cell_type": "markdown",
   "metadata": {
    "deletable": true,
    "editable": true
   },
   "source": [
    "Create a plot to see how the team has been accumulating points"
   ]
  },
  {
   "cell_type": "code",
   "execution_count": null,
   "metadata": {
    "collapsed": false,
    "deletable": true,
    "editable": true
   },
   "outputs": [],
   "source": [
    "p <- ggplot(data=results.clean, aes(x=GP, y=Points)) + geom_jitter() \n",
    "p"
   ]
  },
  {
   "cell_type": "markdown",
   "metadata": {
    "deletable": true,
    "editable": true
   },
   "source": [
    "Let's add a line for how many points they should have in order to get to 96 points at the end of the season, which pretty much guarantees a playoff spot. "
   ]
  },
  {
   "cell_type": "code",
   "execution_count": null,
   "metadata": {
    "collapsed": true,
    "deletable": true,
    "editable": true
   },
   "outputs": [],
   "source": [
    "results.clean$PtsPace <- results.clean$GP * (96/82.0)"
   ]
  },
  {
   "cell_type": "code",
   "execution_count": null,
   "metadata": {
    "collapsed": false,
    "deletable": true,
    "editable": true,
    "scrolled": false
   },
   "outputs": [],
   "source": [
    "p <- ggplot(data=results.clean, aes(x=GP, y=Points)) + geom_line() + geom_line(aes(x = GP, y=PtsPace), colour=\"red\") \n",
    "p"
   ]
  },
  {
   "cell_type": "markdown",
   "metadata": {
    "deletable": true,
    "editable": true
   },
   "source": [
    "Mark-up the figure in order to make it a bit easier to understand. "
   ]
  },
  {
   "cell_type": "code",
   "execution_count": null,
   "metadata": {
    "collapsed": false,
    "deletable": true,
    "editable": true
   },
   "outputs": [],
   "source": [
    "p.title <- list(labs(title=\"How my team is doing against a 96 point pace\"), xlab(\"Games Played\"), ylab(\"Points\"))\n",
    "p + p.title"
   ]
  },
  {
   "cell_type": "markdown",
   "metadata": {
    "collapsed": true,
    "deletable": true,
    "editable": true
   },
   "source": [
    "In conclusion, the Flames are on pace to make the playoffs."
   ]
  },
  {
   "cell_type": "code",
   "execution_count": null,
   "metadata": {
    "collapsed": true,
    "deletable": true,
    "editable": true
   },
   "outputs": [],
   "source": []
  }
 ],
 "metadata": {
  "anaconda-cloud": {},
  "kernelspec": {
   "display_name": "R",
   "language": "R",
   "name": "ir"
  },
  "language_info": {
   "codemirror_mode": "r",
   "file_extension": ".r",
   "mimetype": "text/x-r-source",
   "name": "R",
   "pygments_lexer": "r",
   "version": "3.3.2"
  }
 },
 "nbformat": 4,
 "nbformat_minor": 1
}
