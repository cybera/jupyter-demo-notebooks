{
 "cells": [
  {
   "cell_type": "markdown",
   "metadata": {
    "deletable": true,
    "editable": true,
    "nbpresent": {
     "id": "2bf1e17f-b9af-4103-8d16-9a5c50b83336"
    },
    "slideshow": {
     "slide_type": "slide"
    }
   },
   "source": [
    "\n",
    "![Jupyter](https://wwejubwfy.s3.amazonaws.com/Artboard-2016-11-13-18-46-27.jpg)\n",
    "\n",
    "## <div style=\"text-align: right\"> Lowering the Barrier to Research, Education and Innovation - A National Jupyter Service\t</div>\n",
    "\n",
    "## <div style=\"text-align: right\"> James Colliander, PIMS </div>\n",
    "## <div style=\"text-align: right\"> Barb Carra, Cybera </div>\n",
    "\n",
    "\n"
   ]
  },
  {
   "cell_type": "markdown",
   "metadata": {},
   "source": [
    "2+2"
   ]
  },
  {
   "cell_type": "markdown",
   "metadata": {
    "collapsed": true,
    "deletable": true,
    "editable": true,
    "slideshow": {
     "slide_type": "slide"
    }
   },
   "source": [
    "# Test slide 1\n",
    "\n",
    "\n",
    "This is the slide body"
   ]
  },
  {
   "cell_type": "markdown",
   "metadata": {
    "collapsed": true,
    "deletable": true,
    "editable": true,
    "slideshow": {
     "slide_type": "slide"
    }
   },
   "source": [
    "# Slide 2\n",
    "\n",
    "Slide two text"
   ]
  },
  {
   "cell_type": "markdown",
   "metadata": {
    "collapsed": true,
    "deletable": true,
    "editable": true,
    "slideshow": {
     "slide_type": "subslide"
    }
   },
   "source": [
    "# Slide 2 \n",
    "\n",
    "## subslide 1"
   ]
  },
  {
   "cell_type": "markdown",
   "metadata": {
    "collapsed": true,
    "deletable": true,
    "editable": true,
    "slideshow": {
     "slide_type": "subslide"
    }
   },
   "source": [
    "# Slide 2 \n",
    "\n",
    "## subslide 2"
   ]
  },
  {
   "cell_type": "markdown",
   "metadata": {
    "collapsed": true,
    "deletable": true,
    "editable": true,
    "slideshow": {
     "slide_type": "subslide"
    }
   },
   "source": [
    "# Slide 2 \n",
    "\n",
    "## subslide 3"
   ]
  },
  {
   "cell_type": "markdown",
   "metadata": {
    "collapsed": true,
    "deletable": true,
    "editable": true
   },
   "source": [
    "# Slide 3"
   ]
  },
  {
   "cell_type": "markdown",
   "metadata": {
    "collapsed": true,
    "deletable": true,
    "editable": true
   },
   "source": []
  },
  {
   "cell_type": "markdown",
   "metadata": {
    "collapsed": true,
    "deletable": true,
    "editable": true
   },
   "source": []
  },
  {
   "cell_type": "markdown",
   "metadata": {
    "collapsed": true,
    "deletable": true,
    "editable": true
   },
   "source": []
  },
  {
   "cell_type": "markdown",
   "metadata": {
    "collapsed": true,
    "deletable": true,
    "editable": true
   },
   "source": []
  },
  {
   "cell_type": "markdown",
   "metadata": {
    "collapsed": true,
    "deletable": true,
    "editable": true
   },
   "source": []
  },
  {
   "cell_type": "markdown",
   "metadata": {
    "collapsed": true,
    "deletable": true,
    "editable": true
   },
   "source": []
  },
  {
   "cell_type": "markdown",
   "metadata": {
    "collapsed": true,
    "deletable": true,
    "editable": true
   },
   "source": []
  },
  {
   "cell_type": "markdown",
   "metadata": {
    "deletable": true,
    "editable": true,
    "slideshow": {
     "slide_type": "subslide"
    }
   },
   "source": [
    "## Try it out: \n",
    "\n",
    "http://juliabox.cloud.cybera.ca/\n",
    "\n",
    "https://cybera.syzygy.ca"
   ]
  },
  {
   "cell_type": "markdown",
   "metadata": {
    "deletable": true,
    "editable": true,
    "nbpresent": {
     "id": "f0babef9-83cd-4099-a1d5-7cebd5f624ae"
    }
   },
   "source": [
    "## Training\n",
    "\n",
    "https://github.com/cybera/titanic-julia "
   ]
  }
 ],
 "metadata": {
  "anaconda-cloud": {},
  "celltoolbar": "Slideshow",
  "kernelspec": {
   "display_name": "Python 3",
   "language": "python",
   "name": "python3"
  },
  "language_info": {
   "codemirror_mode": {
    "name": "ipython",
    "version": 3
   },
   "file_extension": ".py",
   "mimetype": "text/x-python",
   "name": "python",
   "nbconvert_exporter": "python",
   "pygments_lexer": "ipython3",
   "version": "3.5.2"
  },
  "nbpresent": {
   "slides": {
    "0750a42e-71e1-4563-8091-1e88a7a75e84": {
     "id": "0750a42e-71e1-4563-8091-1e88a7a75e84",
     "prev": "0af6b316-d47b-40fc-9a1b-1dc010bd41c4",
     "regions": {
      "4c9ed648-14df-426e-83ef-c80e55b08b3a": {
       "attrs": {
        "height": 0.8,
        "width": 0.8,
        "x": 0.1,
        "y": 0.1
       },
       "content": {
        "cell": "ff7d60e8-f934-4461-b193-884d6ffa779a",
        "part": "whole"
       },
       "id": "4c9ed648-14df-426e-83ef-c80e55b08b3a"
      }
     }
    },
    "09f655fa-9106-419d-bce3-2a4b91118923": {
     "id": "09f655fa-9106-419d-bce3-2a4b91118923",
     "prev": "417de7b6-6ae1-4cc2-a814-046a15640e0d",
     "regions": {
      "b272ae68-3313-406e-8062-90ba5429495b": {
       "attrs": {
        "height": 0.8,
        "width": 0.8,
        "x": 0.1,
        "y": 0.1
       },
       "content": {
        "cell": "d4b48ed5-e2b2-4c8f-9972-20c7e7751f5e",
        "part": "whole"
       },
       "id": "b272ae68-3313-406e-8062-90ba5429495b"
      }
     }
    },
    "0af6b316-d47b-40fc-9a1b-1dc010bd41c4": {
     "id": "0af6b316-d47b-40fc-9a1b-1dc010bd41c4",
     "prev": "64c060e9-444d-46b3-a695-c181dfc4b08d",
     "regions": {
      "0d0094a0-c23a-4a3a-b637-808887e9a05f": {
       "attrs": {
        "height": 0.8,
        "width": 0.8,
        "x": 0.1,
        "y": 0.1
       },
       "content": {
        "cell": "01831243-4472-49fa-b163-c8857b1f8a7e",
        "part": "whole"
       },
       "id": "0d0094a0-c23a-4a3a-b637-808887e9a05f"
      }
     }
    },
    "10903ea8-8dda-4310-bb0e-f4e858353924": {
     "id": "10903ea8-8dda-4310-bb0e-f4e858353924",
     "prev": "d0338262-3473-4b35-a1f4-734cdb74638c",
     "regions": {
      "87c15ae6-1d38-4226-a7cc-cea4be8811b3": {
       "attrs": {
        "height": 0.4,
        "width": 0.8,
        "x": 0.1,
        "y": 0.5
       },
       "content": {
        "cell": "ecbec2ed-5bdc-45b0-8dab-b6999e07b5b2",
        "part": "whole"
       },
       "id": "87c15ae6-1d38-4226-a7cc-cea4be8811b3"
      },
      "9904b277-df38-43fb-a754-ab2a438539c9": {
       "attrs": {
        "height": 0.8,
        "width": 0.8,
        "x": 0.1,
        "y": 0.1
       },
       "content": {
        "cell": "8c1e6799-c60d-481d-b724-43836e12c7cd",
        "part": "whole"
       },
       "id": "9904b277-df38-43fb-a754-ab2a438539c9"
      }
     }
    },
    "18951ba2-4aa2-4018-a4f5-3ad38b1ceafe": {
     "id": "18951ba2-4aa2-4018-a4f5-3ad38b1ceafe",
     "prev": "09f655fa-9106-419d-bce3-2a4b91118923",
     "regions": {
      "f606bb53-639d-4384-814f-22bb8de508bc": {
       "attrs": {
        "height": 0.8,
        "width": 0.8,
        "x": 0.1,
        "y": 0.1
       },
       "content": {
        "cell": "17290fff-6d84-4024-9245-31fb865d977a",
        "part": "whole"
       },
       "id": "f606bb53-639d-4384-814f-22bb8de508bc"
      }
     }
    },
    "282ccaa4-7a85-4dfe-b2cc-2137da549034": {
     "id": "282ccaa4-7a85-4dfe-b2cc-2137da549034",
     "prev": "b00fcc1b-885e-478e-af6d-89ccfb6ce92a",
     "regions": {
      "38e0c720-bd92-4b0f-88f3-82b8c389b28b": {
       "attrs": {
        "height": 0.8,
        "width": 0.8,
        "x": 0.1,
        "y": 0.1
       },
       "content": {
        "cell": "d01b7cf7-71e7-4ee1-8378-c3cec27d9f56",
        "part": "whole"
       },
       "id": "38e0c720-bd92-4b0f-88f3-82b8c389b28b"
      },
      "5d9c5528-d25e-4ed9-b262-4634411ae6ee": {
       "attrs": {
        "height": 0.4,
        "width": 0.8,
        "x": 0.1,
        "y": 0.5
       },
       "content": {
        "cell": "6e612092-ea04-4854-b201-94f40a1e97e7",
        "part": "whole"
       },
       "id": "5d9c5528-d25e-4ed9-b262-4634411ae6ee"
      },
      "f6f09579-ab52-4ad5-8135-63cbe65c3595": {
       "attrs": {
        "height": 0.4,
        "width": 0.8,
        "x": 0.1,
        "y": 0.5
       },
       "content": {
        "cell": "6dd314db-b9c1-4a86-95ca-932c7a7512c4",
        "part": "whole"
       },
       "id": "f6f09579-ab52-4ad5-8135-63cbe65c3595"
      }
     }
    },
    "312a7fe0-0d0c-44fa-88a6-c3b8094c9993": {
     "id": "312a7fe0-0d0c-44fa-88a6-c3b8094c9993",
     "prev": "0750a42e-71e1-4563-8091-1e88a7a75e84",
     "regions": {
      "1577a8f4-0ab5-40b1-b005-8442ee599554": {
       "attrs": {
        "height": 0.8,
        "width": 0.8,
        "x": 0.1,
        "y": 0.1
       },
       "content": {
        "cell": "38d6e0d5-0b31-4d45-9643-0806f23f560c",
        "part": "whole"
       },
       "id": "1577a8f4-0ab5-40b1-b005-8442ee599554"
      }
     }
    },
    "38494e24-2757-46a2-b0e0-62700caaa5a9": {
     "id": "38494e24-2757-46a2-b0e0-62700caaa5a9",
     "prev": "282ccaa4-7a85-4dfe-b2cc-2137da549034",
     "regions": {
      "b7e01c33-728c-43b5-859e-09a6a84fe3a6": {
       "attrs": {
        "height": 0.8,
        "width": 0.8,
        "x": 0.1,
        "y": 0.1
       },
       "content": {
        "cell": "9a0403dc-10e5-429c-b9ac-44dbcc127f94",
        "part": "whole"
       },
       "id": "b7e01c33-728c-43b5-859e-09a6a84fe3a6"
      },
      "b97213e3-6635-4022-94a2-93874bda7bab": {
       "attrs": {
        "height": 0.4,
        "width": 0.8,
        "x": 0.1,
        "y": 0.5
       },
       "content": {
        "cell": "51bc9bcb-cd3d-4c37-ac19-c0709135690c",
        "part": "whole"
       },
       "id": "b97213e3-6635-4022-94a2-93874bda7bab"
      }
     }
    },
    "417de7b6-6ae1-4cc2-a814-046a15640e0d": {
     "id": "417de7b6-6ae1-4cc2-a814-046a15640e0d",
     "prev": "312a7fe0-0d0c-44fa-88a6-c3b8094c9993",
     "regions": {
      "be84380f-9399-40af-b86f-c3c203342bf0": {
       "attrs": {
        "height": 0.8,
        "width": 0.8,
        "x": 0.1,
        "y": 0.1
       },
       "content": {
        "cell": "eb24a8d9-de0b-4fb0-b9ec-6a912addff3d",
        "part": "whole"
       },
       "id": "be84380f-9399-40af-b86f-c3c203342bf0"
      }
     }
    },
    "5292506b-c2af-459c-8b4b-088e4b9269cc": {
     "id": "5292506b-c2af-459c-8b4b-088e4b9269cc",
     "prev": "8c5072e5-c155-41f5-93f1-832b4d4d05da",
     "regions": {
      "23b522f7-1b14-4fa5-9a25-8d94cffd2011": {
       "attrs": {
        "height": 0.8,
        "width": 0.8,
        "x": 0.1,
        "y": 0.1
       },
       "content": {
        "cell": "a7cd3b7f-f877-4cdb-a5c0-6ed994366cf8",
        "part": "whole"
       },
       "id": "23b522f7-1b14-4fa5-9a25-8d94cffd2011"
      }
     }
    },
    "60bd1e6b-af93-48f7-9722-73f9a09df9d3": {
     "id": "60bd1e6b-af93-48f7-9722-73f9a09df9d3",
     "prev": "6e1632c1-fc9d-4b25-86f9-14324a6dbb1b",
     "regions": {
      "8765990b-4f79-498e-9e6e-20419fc811f5": {
       "attrs": {
        "height": 0.8,
        "width": 0.8,
        "x": 0.1,
        "y": 0.1
       },
       "content": {
        "cell": "d70b43e9-8f28-450c-9db8-889773794663",
        "part": "whole"
       },
       "id": "8765990b-4f79-498e-9e6e-20419fc811f5"
      },
      "cef30bf7-645d-42c4-9e45-7629794b2aae": {
       "attrs": {
        "height": 0.4,
        "width": 0.8,
        "x": 0.1,
        "y": 0.5
       },
       "content": {
        "cell": "f0babef9-83cd-4099-a1d5-7cebd5f624ae",
        "part": "whole"
       },
       "id": "cef30bf7-645d-42c4-9e45-7629794b2aae"
      }
     }
    },
    "64c060e9-444d-46b3-a695-c181dfc4b08d": {
     "id": "64c060e9-444d-46b3-a695-c181dfc4b08d",
     "prev": "5292506b-c2af-459c-8b4b-088e4b9269cc",
     "regions": {
      "f934a63c-c414-4eae-9658-8803de6cd07b": {
       "attrs": {
        "height": 0.8,
        "width": 0.8,
        "x": 0.1,
        "y": 0.1
       },
       "content": {
        "cell": "272e6edf-702c-4dad-892b-3d2ff2ea07df",
        "part": "whole"
       },
       "id": "f934a63c-c414-4eae-9658-8803de6cd07b"
      }
     }
    },
    "6e1632c1-fc9d-4b25-86f9-14324a6dbb1b": {
     "id": "6e1632c1-fc9d-4b25-86f9-14324a6dbb1b",
     "prev": "10903ea8-8dda-4310-bb0e-f4e858353924",
     "regions": {
      "957e1c79-253d-4e22-acb1-9ddeb9696382": {
       "attrs": {
        "height": 0.8,
        "width": 0.8,
        "x": 0.1,
        "y": 0.1
       },
       "content": {
        "cell": "1f14f9cf-fe4c-4b04-aa8d-325e3f0f36c0",
        "part": "whole"
       },
       "id": "957e1c79-253d-4e22-acb1-9ddeb9696382"
      }
     }
    },
    "8c5072e5-c155-41f5-93f1-832b4d4d05da": {
     "id": "8c5072e5-c155-41f5-93f1-832b4d4d05da",
     "prev": null,
     "regions": {
      "1529ce9c-f02b-420c-9d08-553bf6ba8624": {
       "attrs": {
        "height": 0.8,
        "width": 0.8,
        "x": 0.1,
        "y": 0.1
       },
       "content": {
        "cell": "2bf1e17f-b9af-4103-8d16-9a5c50b83336",
        "part": "whole"
       },
       "id": "1529ce9c-f02b-420c-9d08-553bf6ba8624"
      }
     }
    },
    "a55d1bd8-3a4d-4fa2-9d33-52e86bea9264": {
     "id": "a55d1bd8-3a4d-4fa2-9d33-52e86bea9264",
     "prev": "18951ba2-4aa2-4018-a4f5-3ad38b1ceafe",
     "regions": {
      "6276dd8f-3b5e-432e-bcee-213ff9ebe745": {
       "attrs": {
        "height": 0.8,
        "width": 0.8,
        "x": 0.1,
        "y": 0.1
       },
       "content": {
        "cell": "1a530489-5d48-49e6-b074-db15c93473e2",
        "part": "whole"
       },
       "id": "6276dd8f-3b5e-432e-bcee-213ff9ebe745"
      }
     }
    },
    "b00fcc1b-885e-478e-af6d-89ccfb6ce92a": {
     "id": "b00fcc1b-885e-478e-af6d-89ccfb6ce92a",
     "prev": "b60020c3-0eb5-488e-abaa-1ba729adce5e",
     "regions": {
      "0d081fcc-d1ad-4751-a8f9-d4b61bbfb341": {
       "attrs": {
        "height": 0.8,
        "width": 0.8,
        "x": 0.1,
        "y": 0.1
       },
       "content": {
        "cell": "047178fb-de6f-4a29-95c1-90651b17d8ab",
        "part": "whole"
       },
       "id": "0d081fcc-d1ad-4751-a8f9-d4b61bbfb341"
      }
     }
    },
    "b60020c3-0eb5-488e-abaa-1ba729adce5e": {
     "id": "b60020c3-0eb5-488e-abaa-1ba729adce5e",
     "prev": "a55d1bd8-3a4d-4fa2-9d33-52e86bea9264",
     "regions": {
      "298823db-92e4-4669-8e1f-a58679b4235b": {
       "attrs": {
        "height": 0.8,
        "width": 0.8,
        "x": 0.1,
        "y": 0.1
       },
       "content": {
        "cell": "c6a93896-9a19-4f28-a00d-2b03798158bc",
        "part": "whole"
       },
       "id": "298823db-92e4-4669-8e1f-a58679b4235b"
      }
     }
    },
    "d0338262-3473-4b35-a1f4-734cdb74638c": {
     "id": "d0338262-3473-4b35-a1f4-734cdb74638c",
     "prev": "38494e24-2757-46a2-b0e0-62700caaa5a9",
     "regions": {
      "19a196f1-da28-4996-85bc-e4af86940ca1": {
       "attrs": {
        "height": 0.8,
        "width": 0.8,
        "x": 0.1,
        "y": 0.1
       },
       "content": {
        "cell": "f73c953e-430f-4dba-a91e-3ec76856fa0a",
        "part": "whole"
       },
       "id": "19a196f1-da28-4996-85bc-e4af86940ca1"
      }
     }
    }
   },
   "themes": {}
  }
 },
 "nbformat": 4,
 "nbformat_minor": 0
}
