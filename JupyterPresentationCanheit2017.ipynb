{
 "cells": [
  {
   "cell_type": "markdown",
   "metadata": {
    "deletable": true,
    "editable": true,
    "nbpresent": {
     "id": "2bf1e17f-b9af-4103-8d16-9a5c50b83336"
    },
    "slideshow": {
     "slide_type": "slide"
    }
   },
   "source": [
    "\n",
    "![Jupyter](https://wwejubwfy.s3.amazonaws.com/Artboard-2016-11-13-18-46-27.jpg)\n",
    "\n",
    "## <div style=\"text-align: right\"> Lowering the Barrier to Research, Education and Innovation - A National Jupyter Service\t</div>\n",
    "\n",
    "## <div style=\"text-align: right\"> James Colliander, PIMS </div>\n",
    "## <div style=\"text-align: right\"> Barb Carra, Cybera </div>\n",
    "\n",
    "\n"
   ]
  },
  {
   "cell_type": "markdown",
   "metadata": {
    "deletable": true,
    "editable": true,
    "slideshow": {
     "slide_type": "slide"
    }
   },
   "source": [
    "# Outline\n",
    "\n",
    "## 1. Introduction to Juypter Notebooks\n",
    "\n",
    "## 2. Status of Collaboration\n",
    "\n",
    "## 3. Why PIMS, CC, and Cybera?\n",
    "\n",
    "## 4. Where are we trying to get to and how do we get there?\n",
    "\n",
    "## 5. Discussion"
   ]
  },
  {
   "cell_type": "markdown",
   "metadata": {
    "collapsed": true,
    "deletable": true,
    "editable": true,
    "slideshow": {
     "slide_type": "slide"
    }
   },
   "source": [
    "# Why Juypter Notebooks?\n",
    "\n",
    "\n",
    "Consider current approach to a grade 6 assignment:\n",
    "\n",
    "The essential question is, \"What data are available from governments, what use can we make of it, and what are some other things we would like to know?\"\n"
   ]
  },
  {
   "cell_type": "markdown",
   "metadata": {
    "slideshow": {
     "slide_type": "subslide"
    }
   },
   "source": [
    "### Steps involved: \n",
    "- Go to opengov site\n",
    "- Download data\n",
    "- Import into locally installed software (e.g. Excel)\n",
    "- Move graphs from Excel to Word\n",
    "- Write report around this"
   ]
  },
  {
   "cell_type": "markdown",
   "metadata": {
    "slideshow": {
     "slide_type": "subslide"
    }
   },
   "source": [
    "### Traditional approach:\n",
    "\n",
    "→ Locally installed software\n",
    "\n",
    "→ No integration between tools \n",
    "\n",
    "→ No way to annotate properly"
   ]
  },
  {
   "cell_type": "markdown",
   "metadata": {
    "slideshow": {
     "slide_type": "subslide"
    }
   },
   "source": [
    "## What would this assignment look like using Jupyter?\n",
    "\n",
    "- No tools need to be installed locally\n",
    "- Instructor can pre-load the notebook with open data or query api to pull in data\n",
    "- Provide examples in-line with instructions\n",
    "- Students write up their assignment in the notebook, integrated with the plots they produce\n",
    "\n",
    "\n",
    "\n"
   ]
  },
  {
   "cell_type": "markdown",
   "metadata": {
    "slideshow": {
     "slide_type": "slide"
    }
   },
   "source": [
    "## What is a Jupyter notebook?\n",
    "- combines text, math formulas, and active computer code.\n",
    "- includes rich display: slideshows, animations, videos, etc\n",
    "- builds on the languages Julia, Python, R and more\n",
    "- friendly interface through any modern browser\n",
    "- runs smoothly over the internet, or on your laptop"
   ]
  },
  {
   "cell_type": "markdown",
   "metadata": {
    "slideshow": {
     "slide_type": "subslide"
    }
   },
   "source": [
    "## Use Markdown language\n",
    "- for plain text, headers, even slideshows (like this one!)\n",
    "- to make lists, insert math: $F(x) = \\int_0^x f(s) ds$, format text\n",
    "- insert *italics* and **bold** for emphasis, even quotations: \n",
    ">To-morrow, and to-morrow, and to-morrow,\n",
    ">Creeps in this petty pace from day to day,\n",
    ">To the last syllable of recorded time."
   ]
  },
  {
   "cell_type": "code",
   "execution_count": null,
   "metadata": {
    "collapsed": true,
    "slideshow": {
     "slide_type": "subslide"
    }
   },
   "outputs": [],
   "source": [
    "from pylab import *"
   ]
  },
  {
   "cell_type": "markdown",
   "metadata": {
    "slideshow": {
     "slide_type": "subslide"
    }
   },
   "source": [
    "We can use Python for simple calculations"
   ]
  },
  {
   "cell_type": "code",
   "execution_count": null,
   "metadata": {
    "collapsed": false,
    "slideshow": {
     "slide_type": "subslide"
    }
   },
   "outputs": [],
   "source": [
    "5*23.444"
   ]
  },
  {
   "cell_type": "markdown",
   "metadata": {
    "slideshow": {
     "slide_type": "subslide"
    }
   },
   "source": [
    "Generate sound algorithmically, and play it. "
   ]
  },
  {
   "cell_type": "code",
   "execution_count": null,
   "metadata": {
    "collapsed": true,
    "slideshow": {
     "slide_type": "subslide"
    }
   },
   "outputs": [],
   "source": [
    "from IPython.display import Audio"
   ]
  },
  {
   "cell_type": "code",
   "execution_count": null,
   "metadata": {
    "collapsed": false,
    "slideshow": {
     "slide_type": "subslide"
    }
   },
   "outputs": [],
   "source": [
    "Fs = 8000.0\n",
    "Len = 3\n",
    "t = linspace(0,Len,Fs*Len)\n",
    "f1 = 32.0\n",
    "f2 = 800.0\n",
    "signal = sin(2*pi*f1*t) + sin(2*pi*f2*t)\n",
    "\n",
    "Audio(data=signal, rate=Fs)"
   ]
  },
  {
   "cell_type": "markdown",
   "metadata": {
    "slideshow": {
     "slide_type": "subslide"
    }
   },
   "source": [
    "With a few lines, we can include YouTube videos"
   ]
  },
  {
   "cell_type": "code",
   "execution_count": null,
   "metadata": {
    "collapsed": false,
    "slideshow": {
     "slide_type": "subslide"
    }
   },
   "outputs": [],
   "source": [
    "from IPython.display import YouTubeVideo\n",
    "# Navjo Math Circles - Tatiana Shubin\n",
    "YouTubeVideo('nrNV7oVK_Eg')"
   ]
  },
  {
   "cell_type": "markdown",
   "metadata": {
    "slideshow": {
     "slide_type": "subslide"
    }
   },
   "source": [
    "We can include dynamic, interactive simulations, with just a little code."
   ]
  },
  {
   "cell_type": "code",
   "execution_count": null,
   "metadata": {
    "collapsed": false,
    "slideshow": {
     "slide_type": "skip"
    }
   },
   "outputs": [],
   "source": [
    "%%writefile f1.template\n",
    "<!DOCTYPE html>\n",
    "<html>\n",
    "    <meta http-equiv=\"Content-Type\" content=\"text/html;charset=utf-8\"/>\n",
    "    <script type=\"text/javascript\" src=\"https://mbostock.github.io/d3/talk/20111018/d3/d3.js\"></script>\n",
    "    <script type=\"text/javascript\" src=\"https://mbostock.github.io/d3/talk/20111018/d3/d3.geom.js\"></script>\n",
    "    <script type=\"text/javascript\" src=\"https://mbostock.github.io/d3/talk/20111018/d3/d3.layout.js\"></script>\n",
    "    <style type=\"text/css\">\n",
    "\n",
    "circle {\n",
    "  stroke: #000;\n",
    "  stroke-opacity: .5;\n",
    "}\n",
    "\n",
    "    </style>\n",
    "  <body>\n",
    "    <div id=\"body\">\n",
    "    <script type=\"text/javascript\">\n",
    "\n",
    "var w = {width},\n",
    "    h = {height};\n",
    "\n",
    "var nodes = d3.range({ball_count}).map(function() { return {radius: Math.random() * {rad_fac} + {rad_min}}; }),\n",
    "    color = d3.scale.category10();\n",
    "\n",
    "var force = d3.layout.force()\n",
    "    .gravity(0.1)\n",
    "    .charge(function(d, i) { return i ? 0 : -2000; })\n",
    "    .nodes(nodes)\n",
    "    .size([w, h]);\n",
    "\n",
    "var root = nodes[0];\n",
    "root.radius = 0;\n",
    "root.fixed = true;\n",
    "\n",
    "force.start();\n",
    "\n",
    "var svg = d3.select(\"#body\").append(\"svg:svg\")\n",
    "    .attr(\"width\", w)\n",
    "    .attr(\"height\", h);\n",
    "\n",
    "svg.selectAll(\"circle\")\n",
    "    .data(nodes.slice(1))\n",
    "  .enter().append(\"svg:circle\")\n",
    "    .attr(\"r\", function(d) { return d.radius - 2; })\n",
    "    .style(\"fill\", function(d, i) { return color(i % {color_count}); });\n",
    "\n",
    "force.on(\"tick\", function(e) {\n",
    "  var q = d3.geom.quadtree(nodes),\n",
    "      i = 0,\n",
    "      n = nodes.length;\n",
    "\n",
    "  while (++i < n) {\n",
    "    q.visit(collide(nodes[i]));\n",
    "  }\n",
    "\n",
    "  svg.selectAll(\"circle\")\n",
    "      .attr(\"cx\", function(d) { return d.x; })\n",
    "      .attr(\"cy\", function(d) { return d.y; });\n",
    "});\n",
    "\n",
    "svg.on(\"mousemove\", function() {\n",
    "  var p1 = d3.svg.mouse(this);\n",
    "  root.px = p1[0];\n",
    "  root.py = p1[1];\n",
    "  force.resume();\n",
    "});\n",
    "\n",
    "function collide(node) {\n",
    "  var r = node.radius + 16,\n",
    "      nx1 = node.x - r,\n",
    "      nx2 = node.x + r,\n",
    "      ny1 = node.y - r,\n",
    "      ny2 = node.y + r;\n",
    "  return function(quad, x1, y1, x2, y2) {\n",
    "    if (quad.point && (quad.point !== node)) {\n",
    "      var x = node.x - quad.point.x,\n",
    "          y = node.y - quad.point.y,\n",
    "          l = Math.sqrt(x * x + y * y),\n",
    "          r = node.radius + quad.point.radius;\n",
    "      if (l < r) {\n",
    "        l = (l - r) / l * .5;\n",
    "        node.x -= x *= l;\n",
    "        node.y -= y *= l;\n",
    "        quad.point.x += x;\n",
    "        quad.point.y += y;\n",
    "      }\n",
    "    }\n",
    "    return x1 > nx2\n",
    "        || x2 < nx1\n",
    "        || y1 > ny2\n",
    "        || y2 < ny1;\n",
    "  };\n",
    "}\n",
    "\n",
    "    </script>\n",
    "  </body>\n",
    "</html>\n"
   ]
  },
  {
   "cell_type": "code",
   "execution_count": null,
   "metadata": {
    "collapsed": true,
    "slideshow": {
     "slide_type": "skip"
    }
   },
   "outputs": [],
   "source": [
    "from IPython.display import IFrame\n",
    "import re\n",
    "\n",
    "def replace_all(txt,d):\n",
    "    rep = dict((re.escape('{'+k+'}'), str(v)) for k, v in d.items())\n",
    "    pattern = re.compile(\"|\".join(rep.keys()))\n",
    "    return pattern.sub(lambda m: rep[re.escape(m.group(0))], txt)    \n",
    "\n",
    "count=0\n",
    "def serve_html(s,w,h):\n",
    "    import os\n",
    "    global count\n",
    "    count+=1\n",
    "    fn= '__tmp'+str(os.getpid())+'_'+str(count)+'.html'\n",
    "    with open(fn,'w') as f:\n",
    "        f.write(s)\n",
    "    return IFrame('files/'+fn,w,h)\n",
    "\n",
    "def f1(w=500,h=400,ball_count=150,rad_min=2,rad_fac=11,color_count=3):\n",
    "    d={\n",
    "       'width'      :w,\n",
    "       'height'     :h,\n",
    "       'ball_count' :ball_count,\n",
    "       'rad_min'    :rad_min,\n",
    "       'rad_fac'    :rad_fac,\n",
    "       'color_count':color_count\n",
    "       }\n",
    "    with open('f1.template','r') as f:\n",
    "        s=f.read()\n",
    "    s= replace_all(s,d)        \n",
    "    return serve_html(s,w+30,h+30)"
   ]
  },
  {
   "cell_type": "code",
   "execution_count": null,
   "metadata": {
    "collapsed": false,
    "slideshow": {
     "slide_type": "subslide"
    }
   },
   "outputs": [],
   "source": [
    "# Moving ball simulation\n",
    "f1(ball_count=200, color_count=10, rad_fac=20, rad_min=1, w=600) "
   ]
  },
  {
   "cell_type": "markdown",
   "metadata": {
    "collapsed": true,
    "deletable": true,
    "editable": true,
    "slideshow": {
     "slide_type": "slide"
    }
   },
   "source": [
    "# Jupyter notebook sample applications\n"
   ]
  },
  {
   "cell_type": "markdown",
   "metadata": {
    "collapsed": true,
    "deletable": true,
    "editable": true,
    "slideshow": {
     "slide_type": "subslide"
    }
   },
   "source": [
    "# Analyzing Open Data: Women's March / NSERC Funding \n",
    "\n",
    "## subslide 2"
   ]
  },
  {
   "cell_type": "markdown",
   "metadata": {
    "collapsed": true,
    "deletable": true,
    "editable": true,
    "slideshow": {
     "slide_type": "subslide"
    }
   },
   "source": [
    "# Driving Reproducible Research: LIGO / CERN\n",
    "\n",
    "## subslide 3"
   ]
  },
  {
   "cell_type": "markdown",
   "metadata": {
    "collapsed": true,
    "deletable": true,
    "editable": true,
    "slideshow": {
     "slide_type": "subslide"
    }
   },
   "source": [
    "# Fostering Industry Collaboration: ??\n",
    "\n",
    "[Note: could discuss the collaboration with Yazabi to host a JupyterHub on the Rapid Access Cloud]\n",
    "Background: PIMS and Yazabi share a common interest in developing mathematical sciences (data science, scientific computation, modelling, cybersecurity, statistics, etc.) capacity to support discovery and innovation. Yazabi and PIMS are aligned in our interests to develop courseware and computing platforms that support training in the mathematical sciences. PIMS and Yazabi share common goals to match outstanding talent emerging from the universities we serve with excellent career opportunities in industry.\n",
    "\n"
   ]
  },
  {
   "cell_type": "markdown",
   "metadata": {
    "collapsed": true,
    "deletable": true,
    "editable": true,
    "slideshow": {
     "slide_type": "subslide"
    }
   },
   "source": [
    "# Hands-on Teaching: Inferential Thinking\n",
    "\n",
    "## First year data science course at UC Berkeley\n",
    "\n",
    "[www.inferentialthinking.com](www.inferentialthinking.com)"
   ]
  },
  {
   "cell_type": "markdown",
   "metadata": {
    "collapsed": true,
    "deletable": true,
    "editable": true,
    "slideshow": {
     "slide_type": "slide"
    }
   },
   "source": [
    "# Current Status of Collaboration\n",
    "\n",
    "## Existing Installations\n",
    "\n",
    "![installations](canheit_images/current_installations.png)"
   ]
  },
  {
   "cell_type": "markdown",
   "metadata": {
    "collapsed": true,
    "deletable": true,
    "editable": true,
    "slideshow": {
     "slide_type": "subslide"
    }
   },
   "source": [
    "# Current Status of Collaboration\n",
    "\n",
    "## Number of Users\n",
    "### ~ 1500 users \n",
    "\n",
    "### 11 sites active, 3 in process\n",
    "### CC Allocated for 2017-2018\n",
    "* 240 VCPU years\n",
    "* 3,072 GB of storage\n",
    "* Interest from people at: MUN, DAL, UT, Guelph, Bishops, UQAM, Concordia, McMaster, McGill, Queens Mt. Allison, … **\n",
    "\n",
    "## Number of Classes\n",
    "\n"
   ]
  },
  {
   "cell_type": "markdown",
   "metadata": {
    "collapsed": true,
    "deletable": true,
    "editable": true,
    "slideshow": {
     "slide_type": "subslide"
    }
   },
   "source": [
    "# Infrastructure Provision\n",
    "\n",
    "## Infrastructure vs service provision image\n",
    "\n",
    "<img src=\"canheit_images/infrastructure_setup2.png\" width =\"75%\"/>"
   ]
  },
  {
   "cell_type": "markdown",
   "metadata": {
    "collapsed": true,
    "deletable": true,
    "editable": true,
    "slideshow": {
     "slide_type": "slide"
    }
   },
   "source": [
    "# Why PIMS, CC & Cybera?\n",
    "\n",
    "## add text here and where does it go?\n",
    "\n",
    "<img src=\"canheit_images/cybera-png-main.png\" width =\"40%\"/>\n",
    "<img src=\"canheit_images/PIMS_logo.png\" width =\"40%\"/>"
   ]
  },
  {
   "cell_type": "markdown",
   "metadata": {
    "collapsed": true,
    "deletable": true,
    "editable": true,
    "slideshow": {
     "slide_type": "slide"
    }
   },
   "source": [
    "# Where are trying to get there and how do we get there?\n"
   ]
  },
  {
   "cell_type": "markdown",
   "metadata": {
    "deletable": true,
    "editable": true,
    "slideshow": {
     "slide_type": "slide"
    }
   },
   "source": [
    "## Try it out: \n",
    "\n",
    "https://cybera.syzygy.ca"
   ]
  }
 ],
 "metadata": {
  "anaconda-cloud": {},
  "celltoolbar": "Slideshow",
  "kernelspec": {
   "display_name": "Python 3",
   "language": "python",
   "name": "python3"
  },
  "language_info": {
   "codemirror_mode": {
    "name": "ipython",
    "version": 3
   },
   "file_extension": ".py",
   "mimetype": "text/x-python",
   "name": "python",
   "nbconvert_exporter": "python",
   "pygments_lexer": "ipython3",
   "version": "3.5.2"
  },
  "nbpresent": {
   "slides": {
    "0750a42e-71e1-4563-8091-1e88a7a75e84": {
     "id": "0750a42e-71e1-4563-8091-1e88a7a75e84",
     "prev": "0af6b316-d47b-40fc-9a1b-1dc010bd41c4",
     "regions": {
      "4c9ed648-14df-426e-83ef-c80e55b08b3a": {
       "attrs": {
        "height": 0.8,
        "width": 0.8,
        "x": 0.1,
        "y": 0.1
       },
       "content": {
        "cell": "ff7d60e8-f934-4461-b193-884d6ffa779a",
        "part": "whole"
       },
       "id": "4c9ed648-14df-426e-83ef-c80e55b08b3a"
      }
     }
    },
    "09f655fa-9106-419d-bce3-2a4b91118923": {
     "id": "09f655fa-9106-419d-bce3-2a4b91118923",
     "prev": "417de7b6-6ae1-4cc2-a814-046a15640e0d",
     "regions": {
      "b272ae68-3313-406e-8062-90ba5429495b": {
       "attrs": {
        "height": 0.8,
        "width": 0.8,
        "x": 0.1,
        "y": 0.1
       },
       "content": {
        "cell": "d4b48ed5-e2b2-4c8f-9972-20c7e7751f5e",
        "part": "whole"
       },
       "id": "b272ae68-3313-406e-8062-90ba5429495b"
      }
     }
    },
    "0af6b316-d47b-40fc-9a1b-1dc010bd41c4": {
     "id": "0af6b316-d47b-40fc-9a1b-1dc010bd41c4",
     "prev": "64c060e9-444d-46b3-a695-c181dfc4b08d",
     "regions": {
      "0d0094a0-c23a-4a3a-b637-808887e9a05f": {
       "attrs": {
        "height": 0.8,
        "width": 0.8,
        "x": 0.1,
        "y": 0.1
       },
       "content": {
        "cell": "01831243-4472-49fa-b163-c8857b1f8a7e",
        "part": "whole"
       },
       "id": "0d0094a0-c23a-4a3a-b637-808887e9a05f"
      }
     }
    },
    "10903ea8-8dda-4310-bb0e-f4e858353924": {
     "id": "10903ea8-8dda-4310-bb0e-f4e858353924",
     "prev": "d0338262-3473-4b35-a1f4-734cdb74638c",
     "regions": {
      "87c15ae6-1d38-4226-a7cc-cea4be8811b3": {
       "attrs": {
        "height": 0.4,
        "width": 0.8,
        "x": 0.1,
        "y": 0.5
       },
       "content": {
        "cell": "ecbec2ed-5bdc-45b0-8dab-b6999e07b5b2",
        "part": "whole"
       },
       "id": "87c15ae6-1d38-4226-a7cc-cea4be8811b3"
      },
      "9904b277-df38-43fb-a754-ab2a438539c9": {
       "attrs": {
        "height": 0.8,
        "width": 0.8,
        "x": 0.1,
        "y": 0.1
       },
       "content": {
        "cell": "8c1e6799-c60d-481d-b724-43836e12c7cd",
        "part": "whole"
       },
       "id": "9904b277-df38-43fb-a754-ab2a438539c9"
      }
     }
    },
    "18951ba2-4aa2-4018-a4f5-3ad38b1ceafe": {
     "id": "18951ba2-4aa2-4018-a4f5-3ad38b1ceafe",
     "prev": "09f655fa-9106-419d-bce3-2a4b91118923",
     "regions": {
      "f606bb53-639d-4384-814f-22bb8de508bc": {
       "attrs": {
        "height": 0.8,
        "width": 0.8,
        "x": 0.1,
        "y": 0.1
       },
       "content": {
        "cell": "17290fff-6d84-4024-9245-31fb865d977a",
        "part": "whole"
       },
       "id": "f606bb53-639d-4384-814f-22bb8de508bc"
      }
     }
    },
    "282ccaa4-7a85-4dfe-b2cc-2137da549034": {
     "id": "282ccaa4-7a85-4dfe-b2cc-2137da549034",
     "prev": "b00fcc1b-885e-478e-af6d-89ccfb6ce92a",
     "regions": {
      "38e0c720-bd92-4b0f-88f3-82b8c389b28b": {
       "attrs": {
        "height": 0.8,
        "width": 0.8,
        "x": 0.1,
        "y": 0.1
       },
       "content": {
        "cell": "d01b7cf7-71e7-4ee1-8378-c3cec27d9f56",
        "part": "whole"
       },
       "id": "38e0c720-bd92-4b0f-88f3-82b8c389b28b"
      },
      "5d9c5528-d25e-4ed9-b262-4634411ae6ee": {
       "attrs": {
        "height": 0.4,
        "width": 0.8,
        "x": 0.1,
        "y": 0.5
       },
       "content": {
        "cell": "6e612092-ea04-4854-b201-94f40a1e97e7",
        "part": "whole"
       },
       "id": "5d9c5528-d25e-4ed9-b262-4634411ae6ee"
      },
      "f6f09579-ab52-4ad5-8135-63cbe65c3595": {
       "attrs": {
        "height": 0.4,
        "width": 0.8,
        "x": 0.1,
        "y": 0.5
       },
       "content": {
        "cell": "6dd314db-b9c1-4a86-95ca-932c7a7512c4",
        "part": "whole"
       },
       "id": "f6f09579-ab52-4ad5-8135-63cbe65c3595"
      }
     }
    },
    "312a7fe0-0d0c-44fa-88a6-c3b8094c9993": {
     "id": "312a7fe0-0d0c-44fa-88a6-c3b8094c9993",
     "prev": "0750a42e-71e1-4563-8091-1e88a7a75e84",
     "regions": {
      "1577a8f4-0ab5-40b1-b005-8442ee599554": {
       "attrs": {
        "height": 0.8,
        "width": 0.8,
        "x": 0.1,
        "y": 0.1
       },
       "content": {
        "cell": "38d6e0d5-0b31-4d45-9643-0806f23f560c",
        "part": "whole"
       },
       "id": "1577a8f4-0ab5-40b1-b005-8442ee599554"
      }
     }
    },
    "38494e24-2757-46a2-b0e0-62700caaa5a9": {
     "id": "38494e24-2757-46a2-b0e0-62700caaa5a9",
     "prev": "282ccaa4-7a85-4dfe-b2cc-2137da549034",
     "regions": {
      "b7e01c33-728c-43b5-859e-09a6a84fe3a6": {
       "attrs": {
        "height": 0.8,
        "width": 0.8,
        "x": 0.1,
        "y": 0.1
       },
       "content": {
        "cell": "9a0403dc-10e5-429c-b9ac-44dbcc127f94",
        "part": "whole"
       },
       "id": "b7e01c33-728c-43b5-859e-09a6a84fe3a6"
      },
      "b97213e3-6635-4022-94a2-93874bda7bab": {
       "attrs": {
        "height": 0.4,
        "width": 0.8,
        "x": 0.1,
        "y": 0.5
       },
       "content": {
        "cell": "51bc9bcb-cd3d-4c37-ac19-c0709135690c",
        "part": "whole"
       },
       "id": "b97213e3-6635-4022-94a2-93874bda7bab"
      }
     }
    },
    "417de7b6-6ae1-4cc2-a814-046a15640e0d": {
     "id": "417de7b6-6ae1-4cc2-a814-046a15640e0d",
     "prev": "312a7fe0-0d0c-44fa-88a6-c3b8094c9993",
     "regions": {
      "be84380f-9399-40af-b86f-c3c203342bf0": {
       "attrs": {
        "height": 0.8,
        "width": 0.8,
        "x": 0.1,
        "y": 0.1
       },
       "content": {
        "cell": "eb24a8d9-de0b-4fb0-b9ec-6a912addff3d",
        "part": "whole"
       },
       "id": "be84380f-9399-40af-b86f-c3c203342bf0"
      }
     }
    },
    "5292506b-c2af-459c-8b4b-088e4b9269cc": {
     "id": "5292506b-c2af-459c-8b4b-088e4b9269cc",
     "prev": "8c5072e5-c155-41f5-93f1-832b4d4d05da",
     "regions": {
      "23b522f7-1b14-4fa5-9a25-8d94cffd2011": {
       "attrs": {
        "height": 0.8,
        "width": 0.8,
        "x": 0.1,
        "y": 0.1
       },
       "content": {
        "cell": "a7cd3b7f-f877-4cdb-a5c0-6ed994366cf8",
        "part": "whole"
       },
       "id": "23b522f7-1b14-4fa5-9a25-8d94cffd2011"
      }
     }
    },
    "60bd1e6b-af93-48f7-9722-73f9a09df9d3": {
     "id": "60bd1e6b-af93-48f7-9722-73f9a09df9d3",
     "prev": "6e1632c1-fc9d-4b25-86f9-14324a6dbb1b",
     "regions": {
      "8765990b-4f79-498e-9e6e-20419fc811f5": {
       "attrs": {
        "height": 0.8,
        "width": 0.8,
        "x": 0.1,
        "y": 0.1
       },
       "content": {
        "cell": "d70b43e9-8f28-450c-9db8-889773794663",
        "part": "whole"
       },
       "id": "8765990b-4f79-498e-9e6e-20419fc811f5"
      },
      "cef30bf7-645d-42c4-9e45-7629794b2aae": {
       "attrs": {
        "height": 0.4,
        "width": 0.8,
        "x": 0.1,
        "y": 0.5
       },
       "content": {
        "cell": "f0babef9-83cd-4099-a1d5-7cebd5f624ae",
        "part": "whole"
       },
       "id": "cef30bf7-645d-42c4-9e45-7629794b2aae"
      }
     }
    },
    "64c060e9-444d-46b3-a695-c181dfc4b08d": {
     "id": "64c060e9-444d-46b3-a695-c181dfc4b08d",
     "prev": "5292506b-c2af-459c-8b4b-088e4b9269cc",
     "regions": {
      "f934a63c-c414-4eae-9658-8803de6cd07b": {
       "attrs": {
        "height": 0.8,
        "width": 0.8,
        "x": 0.1,
        "y": 0.1
       },
       "content": {
        "cell": "272e6edf-702c-4dad-892b-3d2ff2ea07df",
        "part": "whole"
       },
       "id": "f934a63c-c414-4eae-9658-8803de6cd07b"
      }
     }
    },
    "6e1632c1-fc9d-4b25-86f9-14324a6dbb1b": {
     "id": "6e1632c1-fc9d-4b25-86f9-14324a6dbb1b",
     "prev": "10903ea8-8dda-4310-bb0e-f4e858353924",
     "regions": {
      "957e1c79-253d-4e22-acb1-9ddeb9696382": {
       "attrs": {
        "height": 0.8,
        "width": 0.8,
        "x": 0.1,
        "y": 0.1
       },
       "content": {
        "cell": "1f14f9cf-fe4c-4b04-aa8d-325e3f0f36c0",
        "part": "whole"
       },
       "id": "957e1c79-253d-4e22-acb1-9ddeb9696382"
      }
     }
    },
    "8c5072e5-c155-41f5-93f1-832b4d4d05da": {
     "id": "8c5072e5-c155-41f5-93f1-832b4d4d05da",
     "prev": null,
     "regions": {
      "1529ce9c-f02b-420c-9d08-553bf6ba8624": {
       "attrs": {
        "height": 0.8,
        "width": 0.8,
        "x": 0.1,
        "y": 0.1
       },
       "content": {
        "cell": "2bf1e17f-b9af-4103-8d16-9a5c50b83336",
        "part": "whole"
       },
       "id": "1529ce9c-f02b-420c-9d08-553bf6ba8624"
      }
     }
    },
    "a55d1bd8-3a4d-4fa2-9d33-52e86bea9264": {
     "id": "a55d1bd8-3a4d-4fa2-9d33-52e86bea9264",
     "prev": "18951ba2-4aa2-4018-a4f5-3ad38b1ceafe",
     "regions": {
      "6276dd8f-3b5e-432e-bcee-213ff9ebe745": {
       "attrs": {
        "height": 0.8,
        "width": 0.8,
        "x": 0.1,
        "y": 0.1
       },
       "content": {
        "cell": "1a530489-5d48-49e6-b074-db15c93473e2",
        "part": "whole"
       },
       "id": "6276dd8f-3b5e-432e-bcee-213ff9ebe745"
      }
     }
    },
    "b00fcc1b-885e-478e-af6d-89ccfb6ce92a": {
     "id": "b00fcc1b-885e-478e-af6d-89ccfb6ce92a",
     "prev": "b60020c3-0eb5-488e-abaa-1ba729adce5e",
     "regions": {
      "0d081fcc-d1ad-4751-a8f9-d4b61bbfb341": {
       "attrs": {
        "height": 0.8,
        "width": 0.8,
        "x": 0.1,
        "y": 0.1
       },
       "content": {
        "cell": "047178fb-de6f-4a29-95c1-90651b17d8ab",
        "part": "whole"
       },
       "id": "0d081fcc-d1ad-4751-a8f9-d4b61bbfb341"
      }
     }
    },
    "b60020c3-0eb5-488e-abaa-1ba729adce5e": {
     "id": "b60020c3-0eb5-488e-abaa-1ba729adce5e",
     "prev": "a55d1bd8-3a4d-4fa2-9d33-52e86bea9264",
     "regions": {
      "298823db-92e4-4669-8e1f-a58679b4235b": {
       "attrs": {
        "height": 0.8,
        "width": 0.8,
        "x": 0.1,
        "y": 0.1
       },
       "content": {
        "cell": "c6a93896-9a19-4f28-a00d-2b03798158bc",
        "part": "whole"
       },
       "id": "298823db-92e4-4669-8e1f-a58679b4235b"
      }
     }
    },
    "d0338262-3473-4b35-a1f4-734cdb74638c": {
     "id": "d0338262-3473-4b35-a1f4-734cdb74638c",
     "prev": "38494e24-2757-46a2-b0e0-62700caaa5a9",
     "regions": {
      "19a196f1-da28-4996-85bc-e4af86940ca1": {
       "attrs": {
        "height": 0.8,
        "width": 0.8,
        "x": 0.1,
        "y": 0.1
       },
       "content": {
        "cell": "f73c953e-430f-4dba-a91e-3ec76856fa0a",
        "part": "whole"
       },
       "id": "19a196f1-da28-4996-85bc-e4af86940ca1"
      }
     }
    }
   },
   "themes": {}
  }
 },
 "nbformat": 4,
 "nbformat_minor": 0
}
